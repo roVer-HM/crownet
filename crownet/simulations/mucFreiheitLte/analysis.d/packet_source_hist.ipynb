{
 "cells": [
  {
   "cell_type": "code",
   "execution_count": null,
   "metadata": {},
   "outputs": [],
   "source": [
    "import pandas as pd\n",
    "import numpy as np\n",
    "import matplotlib.pyplot as plt\n",
    "import os\n",
    "from typing import Tuple\n",
    "import contextily  as ctx\n",
    "\n",
    "from crownetutils.utils.misc import Project\n",
    "import contextily as ctx\n",
    "from crownetutils.analysis.omnetpp import OppAnalysis\n",
    "from crownetutils.analysis.dpmm.builder import DpmmHdfBuilder\n",
    "from crownetutils.omnetpp.scave import CrownetSql\n",
    "\n",
    "def run_data(run, sim, hdf_file=\"data.h5\") -> Tuple[DpmmHdfBuilder, CrownetSql]:\n",
    "    data_root = f\"{os.environ['HOME']}/repos/crownet/crownet/simulations/{sim}/results/{run}\"\n",
    "    builder = DpmmHdfBuilder.get(hdf_file, data_root).epsg(Project.UTM_32N)\n",
    "    \n",
    "    sql = CrownetSql(\n",
    "            vec_path=f\"{data_root}/vars_rep_0.vec\", \n",
    "            sca_path=f\"{data_root}/vars_rep_0.sca\", \n",
    "        network=\"World\")\n",
    "    return builder, sql\n",
    "\n",
    "beacon_app = \".app[0].app\"\n",
    "density_map = \".app[1].app\""
   ]
  },
  {
   "cell_type": "code",
   "execution_count": null,
   "metadata": {},
   "outputs": [],
   "source": [
    "\n",
    "b1, sql1 = run_data(\"mucStationaryTest_lowerEnb_20211119-13:51:16\", \"mucFreiheitLte\")\n",
    "\n",
    "p1 = b1.build(override_hdf=False)"
   ]
  },
  {
   "cell_type": "code",
   "execution_count": null,
   "metadata": {},
   "outputs": [],
   "source": [
    "df = OppAnalysis.get_packet_source_distribution(sql=sql1, app_path=beacon_app)\n",
    "fig, ax = plt.subplots(1, 1, figsize=(16,9))\n",
    "ax = OppAnalysis.plot_packet_source_distribution(ax, df)"
   ]
  },
  {
   "cell_type": "code",
   "execution_count": null,
   "metadata": {},
   "outputs": [],
   "source": []
  }
 ],
 "metadata": {
  "interpreter": {
   "hash": "6fde14e266581c961cfc68831b92b1dd55bda63b933110030987c5bf587656b9"
  },
  "kernelspec": {
   "display_name": "Python 3.8.10 64-bit ('analysis_dev': venv)",
   "name": "python3"
  },
  "language_info": {
   "codemirror_mode": {
    "name": "ipython",
    "version": 3
   },
   "file_extension": ".py",
   "mimetype": "text/x-python",
   "name": "python",
   "nbconvert_exporter": "python",
   "pygments_lexer": "ipython3",
   "version": "3.8.10"
  }
 },
 "nbformat": 4,
 "nbformat_minor": 2
}
