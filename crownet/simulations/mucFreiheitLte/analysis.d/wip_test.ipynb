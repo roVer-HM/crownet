{
 "cells": [
  {
   "cell_type": "code",
   "execution_count": null,
   "metadata": {},
   "outputs": [],
   "source": [
    "import pandas as pd\n",
    "import seaborn as sns\n",
    "import numpy as np\n",
    "import matplotlib.pyplot as plt\n",
    "import os\n",
    "from typing import Tuple\n",
    "\n",
    "from roveranalyzer.utils import Project\n",
    "import contextily as ctx\n",
    "from roveranalyzer.analysis import OppAnalysis, DensityMap\n",
    "import roveranalyzer.simulators.crownet.dcd as Dmap\n",
    "import roveranalyzer.simulators.opp as OMNeT\n",
    "\n",
    "def run_data(run, sim, hdf_file=\"data.h5\") -> Tuple[Dmap.DcdHdfBuilder, OMNeT.CrownetSql]:\n",
    "    data_root = f\"{os.environ['HOME']}/repos/crownet/crownet/simulations/{sim}/analysis.d/results/{run}\"\n",
    "    builder = Dmap.DcdHdfBuilder.get(hdf_file, data_root).epsg(Project.UTM_32N)\n",
    "    \n",
    "    sql = OMNeT.CrownetSql(\n",
    "            vec_path=f\"{data_root}/vars_rep_0.vec\", \n",
    "            sca_path=f\"{data_root}/vars_rep_0.sca\", \n",
    "        network=\"World\")\n",
    "    return data_root, builder, sql\n",
    "\n",
    "beacon_app = \".app[1].app\"\n",
    "density_map = \".app[0].app\""
   ]
  },
  {
   "cell_type": "code",
   "execution_count": null,
   "metadata": {},
   "outputs": [],
   "source": [
    "\n",
    "# root, b1, sql1 = run_data(\"vadere_XX_20211206-17:12:27\", \"mucFreiheitLte\")\n",
    "# root, b1, sql1 = run_data(\"subwayStationary_multiEnb_20211213-13:05:44\", \"mucFreiheitLte\")\n",
    "root, b1, sql1 = run_data(\"subwayStationary_multiEnb_20211213-17:34:54\", \"mucFreiheitLte\")\n",
    "\n",
    "p1 = b1.build(override_hdf=False)\n",
    "dcd = b1.build_dcdMap()"
   ]
  },
  {
   "cell_type": "code",
   "execution_count": null,
   "metadata": {},
   "outputs": [],
   "source": [
    "fig, ax = dcd.plot_count_diff(savefig=f\"{root}/out/count_over_time.pdf\")"
   ]
  },
  {
   "cell_type": "code",
   "execution_count": null,
   "metadata": {},
   "outputs": [],
   "source": [
    "fig, ax = dcd.plot_error_quantil_histogram(\n",
    "    stat=\"percent\",\n",
    "    savefig=f\"{root}/out/error_histogram_quantil.pdf\"\n",
    "    )\n",
    "fig, ax = dcd.plot_error_histogram(\n",
    "    stat=\"percent\",\n",
    "    savefig=f\"{root}/out/error_histogram.pdf\"\n",
    ")"
   ]
  },
  {
   "cell_type": "code",
   "execution_count": null,
   "metadata": {},
   "outputs": [],
   "source": [
    "data, idx = OppAnalysis.get_neighborhood_table_size(sql=sql1)\n",
    "fig, ax = OppAnalysis.plot_neighborhood_table_size_over_time(\n",
    "    data, idx, savefig=f\"{root}/out/neighborhood_table_size.pdf\"\n",
    ")"
   ]
  },
  {
   "cell_type": "code",
   "execution_count": null,
   "metadata": {},
   "outputs": [],
   "source": [
    "beacon_df = OppAnalysis.get_packet_source_distribution(\n",
    "    sql1, app_path=\".app[1].app\")\n",
    "fig, ax = OppAnalysis.plot_packet_source_distribution(beacon_df)\n",
    "ax.set_title(\"Beacon packet source distribution\")\n",
    "fig.savefig(f\"{root}/out/beacon_pkt_source_dis.pdf\")"
   ]
  },
  {
   "cell_type": "code",
   "execution_count": null,
   "metadata": {},
   "outputs": [],
   "source": [
    "m = sql1.module_path(\".app[0].app\", \"pNode\")\n",
    "df_delay = sql1.vec_data(\n",
    "    module_name=\"World.pNode[%].app[0].app\",\n",
    "    vector_name=\"rcvdPkLifetime:vector\", \n",
    "    add_host_ids=True\n",
    ")"
   ]
  },
  {
   "cell_type": "code",
   "execution_count": null,
   "metadata": {},
   "outputs": [],
   "source": [
    "fig, axes = plt.subplots(nrows=2, ncols=2, figsize=(16,9))\n",
    "\n",
    "ax = sns.histplot(\n",
    "    age_dcd[\"packet_age\"], \n",
    "    stat=\"percent\", fill=False, legend=True, ax=axes[0], \n",
    ")\n",
    "ax.set_title(\"Density map packet delay\")\n",
    "ax.set_xlim([0.010, 0.030])\n",
    "ax =sns.histplot(\n",
    "    age_beacon[\"packet_age\"], cumulative=True,\n",
    "    stat=\"percent\", element=\"step\", fill=False, legend=True, ax=axes[1], \n",
    ")\n",
    "ax.set_title(\"Beacon Packet Delay\")\n",
    "ax.set_xlim([0.010, 0.030])\n",
    "fig.tight_layout()"
   ]
  },
  {
   "cell_type": "code",
   "execution_count": null,
   "metadata": {},
   "outputs": [],
   "source": []
  },
  {
   "cell_type": "markdown",
   "metadata": {},
   "source": [
    "welches Verfahren Bewerten die Performance \n",
    "\n",
    "\n",
    "Mittleren Fehler über alle \n",
    "\n",
    "* Statisch \n",
    "  * ymf\n",
    "  * ymf+\n",
    "  * \n",
    "* Beacon Interval \n",
    "* Dichtekarten Interval\n",
    "* "
   ]
  }
 ],
 "metadata": {
  "interpreter": {
   "hash": "6fde14e266581c961cfc68831b92b1dd55bda63b933110030987c5bf587656b9"
  },
  "kernelspec": {
   "display_name": "Python 3.8.10 64-bit ('analysis_dev': venv)",
   "name": "python3"
  },
  "language_info": {
   "codemirror_mode": {
    "name": "ipython",
    "version": 3
   },
   "file_extension": ".py",
   "mimetype": "text/x-python",
   "name": "python",
   "nbconvert_exporter": "python",
   "pygments_lexer": "ipython3",
   "version": "3.8.10"
  }
 },
 "nbformat": 4,
 "nbformat_minor": 2
}
