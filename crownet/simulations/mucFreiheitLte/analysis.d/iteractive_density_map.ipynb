{
 "cells": [
  {
   "cell_type": "code",
   "execution_count": null,
   "metadata": {},
   "outputs": [],
   "source": [
    "import pandas as pd\n",
    "import numpy as np\n",
    "import matplotlib.pyplot as plt\n",
    "import os\n",
    "from typing import Tuple\n",
    "\n",
    "from roveranalyzer.utils import Project\n",
    "import contextily as ctx\n",
    "from shapely.geometry import box, Point\n",
    "from roveranalyzer.analysis import OppAnalysis, DensityMap\n",
    "import roveranalyzer.simulators.crownet.dcd as Dmap\n",
    "import roveranalyzer.simulators.opp as OMNeT\n",
    "import folium\n",
    "from folium.plugins import TimestampedGeoJson, TimeSliderChoropleth, HeatMapWithTime\n",
    "\n",
    "def run_data(run, sim, hdf_file=\"data.h5\") -> Tuple[Dmap.DcdHdfBuilder, OMNeT.CrownetSql]:\n",
    "    data_root = f\"{os.environ['HOME']}/repos/crownet/crownet/simulations/{sim}/results/{run}\"\n",
    "    builder = Dmap.DcdHdfBuilder.get(hdf_file, data_root).epsg(Project.UTM_32N)\n",
    "    \n",
    "    sql = OMNeT.CrownetSql(\n",
    "            vec_path=f\"{data_root}/vars_rep_0.vec\", \n",
    "            sca_path=f\"{data_root}/vars_rep_0.sca\", \n",
    "        network=\"World\")\n",
    "    return data_root, builder, sql\n"
   ]
  },
  {
   "cell_type": "markdown",
   "metadata": {},
   "source": [
    "# Example Müncher Freiheit with ~90 Pedestrians using Vadere"
   ]
  },
  {
   "cell_type": "code",
   "execution_count": null,
   "metadata": {},
   "outputs": [],
   "source": [
    "# position offset?\n",
    "root_path1, b1, sql1 = run_data(\"vadere_XX_20211129-11:44:47\", \"mucFreiheitLte\")\n",
    "p1 = b1.build(override_hdf=True)"
   ]
  },
  {
   "cell_type": "code",
   "execution_count": null,
   "metadata": {},
   "outputs": [],
   "source": [
    "m = p1.map_p\n",
    "i = pd.IndexSlice\n",
    "o = m.operators\n",
    "m.add_filter(selection=o.GT(1))"
   ]
  },
  {
   "cell_type": "code",
   "execution_count": null,
   "metadata": {},
   "outputs": [],
   "source": [
    "nodes1 = sql1.host_position(epsg_code_base=Project.UTM_32N, epsg_code_to=Project.OpenStreetMaps)\n",
    "cells1 = p1.global_p.geo(Project.OpenStreetMaps).get_dataframe()"
   ]
  },
  {
   "cell_type": "code",
   "execution_count": null,
   "metadata": {},
   "outputs": [],
   "source": [
    "def get_map(cells, nodes, time=None):\n",
    "    m = DensityMap.get_interactive(\n",
    "        cells = cells,\n",
    "        nodes = nodes, \n",
    "        time = time)\n",
    "    return m\n",
    "\n",
    "def get_node_map(map_p, nodes, time, node_id):\n",
    "    i = pd.IndexSlice\n",
    "    cells = map_p.geo(Project.OpenStreetMaps)[i[time, :, :, :, node_id]]\n",
    "    cells = cells[cells[\"selection\"] == 1]\n",
    "    _nodes = nodes[nodes[\"time\"] == time]\n",
    "    return get_map(cells, _nodes)\n"
   ]
  },
  {
   "cell_type": "code",
   "execution_count": null,
   "metadata": {},
   "outputs": [],
   "source": [
    "m_10 = get_map(cells1, nodes1, 10.0)\n",
    "m_10.save(\"m10.html\")\n",
    "\n",
    "m_60 = get_map(cells1, nodes1, 60.0)\n",
    "m_60.save(\"m60.html\")\n",
    "\n",
    "m_90 = get_map(cells1, nodes1, 90.0)\n",
    "m_90.save(\"m90.html\")"
   ]
  },
  {
   "cell_type": "code",
   "execution_count": null,
   "metadata": {},
   "outputs": [],
   "source": [
    "nid = 2356\n",
    "# nid = 2236\n",
    "m_node_10 = get_node_map(p1.map_p, nodes1, 10.0, nid)\n",
    "m_node_10.save(\"m_node_10.html\")\n",
    "\n",
    "m_node_60 = get_node_map(p1.map_p, nodes1, 60.0, nid)\n",
    "m_node_60.save(\"m_node_60.html\")\n",
    "\n",
    "m_node_90 = get_node_map(p1.map_p, nodes1, 90.0, nid)\n",
    "m_node_90.save(\"m_node_90.html\")"
   ]
  },
  {
   "cell_type": "code",
   "execution_count": null,
   "metadata": {},
   "outputs": [],
   "source": [
    "dcd = b1.build_dcdMap()"
   ]
  },
  {
   "cell_type": "markdown",
   "metadata": {},
   "source": [
    "22.3 s"
   ]
  },
  {
   "cell_type": "code",
   "execution_count": null,
   "metadata": {},
   "outputs": [],
   "source": [
    "dcd.plot_(savefig=f\"{root_path1}/fig/count_diff3.pdf\")"
   ]
  },
  {
   "cell_type": "code",
   "execution_count": null,
   "metadata": {},
   "outputs": [],
   "source": []
  },
  {
   "cell_type": "code",
   "execution_count": null,
   "metadata": {},
   "outputs": [],
   "source": [
    "fig, axes = plt.subplots(nrows=2, ncols=1, figsize=(16,9))\n",
    "\n",
    "ntable, ntable_index = OppAnalysis.get_neighborhood_table_size(sql=sql1)\n",
    "OppAnalysis.plot_neighborhood_table_size_over_time(axes[0], ntable, ntable_index)\n",
    "\n",
    "pkt_source = OppAnalysis.get_packet_source_distribution(sql=sql1, app_path=\".app[1].app\")\n",
    "OppAnalysis.plot_packet_source_distribution(axes[1], data=pkt_source)\n",
    "axes[1].get_legend().remove()\n",
    "\n",
    "fig.savefig(f\"{root_path1}/fig/figure_2.pdf\")\n"
   ]
  },
  {
   "cell_type": "markdown",
   "metadata": {},
   "source": [
    "# Stationary Example"
   ]
  },
  {
   "cell_type": "code",
   "execution_count": null,
   "metadata": {},
   "outputs": [],
   "source": [
    "builder_stat, sql_stat = run_data(\"mucStationaryTest_lowerEnb_20211119-13:51:16\", \"mucFreiheitLte\")\n",
    "p2 = builder_stat.build()\n",
    "nodes_stat = sql_stat.host_position(epsg_code_base=Project.UTM_32N, epsg_code_to=Project.OpenStreetMaps)\n",
    "cells_stat = p2.global_p.geo(Project.OpenStreetMaps).get_dataframe()\n",
    "map_global_stat = get_map(cells_stat, nodes_stat)\n",
    "map_global_stat.save(\"map_global_stationary.html\")\n",
    "map_global_stat"
   ]
  },
  {
   "cell_type": "markdown",
   "metadata": {},
   "source": [
    "# Interactive Maps"
   ]
  },
  {
   "cell_type": "code",
   "execution_count": null,
   "metadata": {},
   "outputs": [],
   "source": [
    "\n",
    "b1, sql1 = run_data(\"mucStationaryTest_lowerEnb_20211119-13:51:16\", \"mucFreiheitLte\")\n",
    "b2, sql2 = run_data(\"mucSumo_base_20211123-17:58:12\", \"mucFreiheitLte\")\n",
    "\n",
    "# p2= b2.build(override_hdf=False)\n",
    "# pos = sql2.host_position(epsg_code=Project.UTM_32N)\n",
    "# pos = pos.to_crs(epsg=Project.OpenStreetMaps.replace(\"EPSG:\", \"\"))\n",
    "\n",
    "ped_r = 0.3\n",
    "pos = sql2.host_position(epsg_code=Project.UTM_32N)\n",
    "g = [ box(x-ped_r, y-ped_r, x+2*ped_r, y+2*ped_r) for x, y in zip(pos[\"x\"], pos[\"y\"])]\n",
    "pos[\"geometry\"] = g\n",
    "# pos = pos.to_crs(epsg=Project.OpenStreetMaps.replace(\"EPSG:\", \"\"))\n",
    "\n",
    "# pos = pos.drop_duplicates()\n",
    "# pos = pos.reset_index(drop=True)\n",
    "# pos.index.name = \"obj_id\"\n",
    "# sql2.host_ids()"
   ]
  },
  {
   "cell_type": "code",
   "execution_count": null,
   "metadata": {},
   "outputs": [],
   "source": []
  },
  {
   "cell_type": "markdown",
   "metadata": {},
   "source": [
    "Add feature_id, color and opacity values to all positions."
   ]
  },
  {
   "cell_type": "code",
   "execution_count": null,
   "metadata": {},
   "outputs": [],
   "source": [
    "pos.index.name = \"feature_id\"\n",
    "pos[\"color\"] = \"#6106ff\"\n",
    "pos[\"opacity\"] = 1.0\n",
    "pos = pos.reset_index().set_index([\"feature_id\", \"time\"])"
   ]
  },
  {
   "cell_type": "markdown",
   "metadata": {},
   "source": [
    "Create product of all features and time steps to create entries in style_dict that will set the opacity of the feature to `0.0`\n",
    "when the feature should not be shown (wrong time)"
   ]
  },
  {
   "cell_type": "code",
   "execution_count": null,
   "metadata": {},
   "outputs": [],
   "source": [
    "import itertools\n",
    "feature_time = itertools.product()\n",
    "feature_time_idx = pd.MultiIndex.from_product(\n",
    "    [pos.index.get_level_values(0), pos.index.get_level_values(1)], \n",
    "    names=[\"feature_id\", \"time\"]\n",
    ")\n",
    "df_missing = pd.DataFrame(index=feature_time_idx.difference(pos.index), columns=[\"color\", \"opacity\"])\n",
    "df_missing[\"color\"] = \"#6106ff\"\n",
    "df_missing[\"opacity\"] = \"0.0\"\n"
   ]
  },
  {
   "cell_type": "markdown",
   "metadata": {},
   "source": [
    "Create style_dict of the form \n",
    "```\n",
    "{\n",
    "    'feature-id-0' : {\n",
    "        '<time-stamp-1> : {color: xxx, opacity: yyy},\n",
    "        '<time-stamp-2> : {color: xxx, opacity: yyy},\n",
    "        '<time-stamp-3> : {color: xxx, opacity: yyy},\n",
    "    },\n",
    "    ...\n",
    "    'feature-id-(N-1)' : {\n",
    "        '<time-stamp-1> : {color: xxx, opacity: yyy},\n",
    "        '<time-stamp-2> : {color: xxx, opacity: yyy},\n",
    "        '<time-stamp-3> : {color: xxx, opacity: yyy},\n",
    "    },\n",
    "}\n",
    "```"
   ]
  },
  {
   "cell_type": "code",
   "execution_count": null,
   "metadata": {},
   "outputs": [],
   "source": [
    "style_df  = pd.concat([pos.loc[:, [\"color\", \"opacity\"]], df_missing])\n",
    "style_df.sort_index()\n",
    "style_dict = {}\n",
    "for feature_id in style_df.index.get_level_values(\"feature_id\"):\n",
    "    t_dict = {}\n",
    "    for time, data in style_df.loc[feature_id].iterrows():\n",
    "        t_dict[str(time)] = data.to_dict()\n",
    "    style_dict[str(feature_id)] = t_dict\n",
    "\n"
   ]
  },
  {
   "cell_type": "code",
   "execution_count": null,
   "metadata": {},
   "outputs": [],
   "source": [
    "pos.head()"
   ]
  },
  {
   "cell_type": "code",
   "execution_count": null,
   "metadata": {},
   "outputs": [],
   "source": [
    "map = folium.Map([48.1596113,11.58011], tiles=\"Stamen Toner\", zoom_start=18, max_zoom=22)\n",
    "# map = folium.Map([0, 0], tiles=\"Stamen Toner\", zoom_start=2)\n",
    "\n",
    "g = TimeSliderChoropleth(\n",
    "    data = pos.reset_index(),\n",
    "    styledict= style_dict, \n",
    "    overlay= True\n",
    ")\n",
    "\n",
    "# g._template = template\n",
    "g.add_to(map)\n",
    "\n",
    "folium.GeoJson(\n",
    "    data=pos.reset_index(), \n",
    "    style_function= lambda x : {'opacity': 0.0, 'fillColor': 'red', 'fillOpacity': 0.0, 'color': None},\n",
    "    tooltip=folium.GeoJsonTooltip(['host', 'time']), \n",
    "    popup= folium.GeoJsonPopup(['time', 'hostId', 'host'])\n",
    ").add_to(map)\n",
    "\n",
    "DensityMap.folium.add_google_tile(map).add_control(map)\n",
    "map.save(\"postion_map.html\")\n",
    "map"
   ]
  },
  {
   "cell_type": "code",
   "execution_count": null,
   "metadata": {},
   "outputs": [],
   "source": [
    "pos.reset_index()"
   ]
  },
  {
   "cell_type": "code",
   "execution_count": null,
   "metadata": {},
   "outputs": [],
   "source": [
    "pos3 = sql2.host_position(epsg_code=Project.UTM_32N)\n",
    "pos3 = pos3.to_crs(epsg=Project.OpenStreetMaps.replace(\"EPSG:\", \"\"))\n",
    "pos3 = pos3.to_crs(crs=Project.WSG84_lat_lon)\n",
    "pos3[\"lat\"] = pos3[\"geometry\"].y\n",
    "pos3[\"lon\"] = pos3[\"geometry\"].x\n",
    "# pos3[\"time\"] = np.floor(pos3[\"time\"])\n",
    "pos3.head()\n"
   ]
  },
  {
   "cell_type": "code",
   "execution_count": null,
   "metadata": {},
   "outputs": [],
   "source": [
    "time = pos3[\"time\"].unique()\n",
    "time.sort()\n",
    "lat_lon = []\n",
    "for t in time:\n",
    "    tmp = []\n",
    "    for i, data in pos3[pos3[\"time\"] == t].iterrows():\n",
    "        tmp.append([data[\"lat\"], data[\"lon\"]])\n",
    "    lat_lon.append(tmp)\n",
    "    # print(f\"{t}: {len(tmp)}\")"
   ]
  },
  {
   "cell_type": "code",
   "execution_count": null,
   "metadata": {},
   "outputs": [],
   "source": [
    "\n",
    "m = DensityMap.get_interactive(nodes=pos3[pos3[\"time\"]==8.0])\n",
    "m.save(\"peds_t8.html\")"
   ]
  },
  {
   "cell_type": "code",
   "execution_count": null,
   "metadata": {},
   "outputs": [],
   "source": [
    "map = folium.Map([48.1596113,11.58011], tiles=\"Stamen Toner\", zoom_start=18, max_zoom=22)\n",
    "HeatMapWithTime(\n",
    "    lat_lon, \n",
    "    radius=10, \n",
    "    auto_play= True, \n",
    "    position=\"bottomright\", \n",
    "    min_opacity = 0.9, \n",
    "    max_opacity = 1.0,\n",
    "    # scale_radius= True,\n",
    "    gradient={0.1: '#ffb3ac', .4: '#ff755d', 1: '#ff0202'}\n",
    ").add_to(map)\n",
    "\n",
    "\n",
    "folium.LayerControl().add_to(map)\n",
    "map.save(\"density_map.html\")\n",
    "map"
   ]
  },
  {
   "cell_type": "code",
   "execution_count": null,
   "metadata": {},
   "outputs": [],
   "source": [
    "import datetime\n",
    "from typing import Dict\n",
    "style_dict: Dict = {}\n",
    "t_df = pos.reset_index().set_index(\"time\")\n",
    "for i in range(t_df.shape[0]):\n",
    "    obj_id = str(t_df.iloc[i][\"obj_id\"])\n",
    "    time_dict = style_dict.get(obj_id, {})\n",
    "    time = str(1637693844.451419 + t_df.index[i])\n",
    "    time_dict[time] = dict(color=\"red\", opacity=1.0)\n",
    "    style_dict[obj_id] = time_dict\n",
    "\n",
    "style_dict['0']\n",
    "\n",
    "time = str(1637693844.451419 + t_df.index[i])\n",
    "# datetime.datetime.fromtimestamp()"
   ]
  },
  {
   "cell_type": "code",
   "execution_count": null,
   "metadata": {},
   "outputs": [],
   "source": [
    "map = folium.Map([48.1596113,11.58011], tiles=\"Stamen Toner\", zoom_start=18, max_zoom=22)\n",
    "# map = folium.Map([0, 0], tiles=\"Stamen Toner\", zoom_start=2)\n",
    "\n",
    "g = TimeSliderChoropleth(\n",
    "    data = pos,\n",
    "    styledict= style_dict, \n",
    "    overlay= True\n",
    ").add_to(map)\n",
    "\n",
    "# pos2.explore(\n",
    "#     m=map,\n",
    "#     name = \"fpp\",\n",
    "#     color= \"red\"\n",
    "# )\n",
    "\n",
    "folium.LayerControl().add_to(map)\n",
    "# map.save(\"out.hml\")\n",
    "map\n"
   ]
  },
  {
   "cell_type": "code",
   "execution_count": null,
   "metadata": {},
   "outputs": [],
   "source": [
    "from shapely.geometry import box\n",
    "pos2 = sql2.host_position(epsg_code=Project.UTM_32N)\n",
    "g = [ box(x, y, x+3, y+3) for x, y in zip(pos2[\"x\"], pos2[\"y\"])]\n",
    "pos2[\"geometry\"] = g\n",
    "pos2 = pos2.to_crs(epsg=Project.OpenStreetMaps.replace(\"EPSG:\", \"\"))\n",
    "m = DensityMap.get_interactive(nodes=pos2)\n",
    "m\n",
    "# pos2"
   ]
  },
  {
   "cell_type": "markdown",
   "metadata": {},
   "source": [
    "# Global View \n",
    "\n",
    "Show interactive density map of the global (ground truth) for a given time."
   ]
  },
  {
   "cell_type": "code",
   "execution_count": null,
   "metadata": {},
   "outputs": [],
   "source": [
    "\n",
    "# postion collected from OMNeT \n",
    "host_position = sql1.host_position(epsg_code=Project.UTM_32N, time_slice=slice(0, 0))\n",
    "host_position = host_position.to_crs(epsg=Project.OpenStreetMaps.replace(\"EPSG:\", \"\"))\n",
    "\n",
    "\n",
    "_i = pd.IndexSlice\n",
    "# map data\n",
    "cells = DensityMap.get_annotated_global_map(\n",
    "    global_map = p1.global_p, \n",
    "    position = p1.position_p, \n",
    "    crs = Project.OpenStreetMaps, \n",
    "    slice_ = _i[1.0]\n",
    ")\n",
    "base_map = DensityMap.get_interactive(cells, host_position)\n",
    "base_map\n"
   ]
  },
  {
   "cell_type": "markdown",
   "metadata": {},
   "source": [
    "# Node View \n",
    "\n",
    "Show interactive density map from point of view from a single node. "
   ]
  },
  {
   "cell_type": "code",
   "execution_count": null,
   "metadata": {},
   "outputs": [],
   "source": [
    "# todo\n",
    "\n",
    "# select node and time \n",
    "\n",
    "# extract position of 'seen' nodes from the neighborhood\n",
    "\n",
    "# get map data from selected node"
   ]
  }
 ],
 "metadata": {
  "interpreter": {
   "hash": "6fde14e266581c961cfc68831b92b1dd55bda63b933110030987c5bf587656b9"
  },
  "kernelspec": {
   "display_name": "Python 3.8.10 64-bit ('analysis_dev': venv)",
   "name": "python3"
  },
  "language_info": {
   "codemirror_mode": {
    "name": "ipython",
    "version": 3
   },
   "file_extension": ".py",
   "mimetype": "text/x-python",
   "name": "python",
   "nbconvert_exporter": "python",
   "pygments_lexer": "ipython3",
   "version": "3.8.10"
  }
 },
 "nbformat": 4,
 "nbformat_minor": 2
}
