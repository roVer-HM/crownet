{
 "cells": [
  {
   "cell_type": "code",
   "execution_count": null,
   "metadata": {},
   "outputs": [],
   "source": [
    "import roveranalyzer as r \n",
    "import geopandas as g\n",
    "import pandas as pd\n",
    "import contextily  as ctx\n",
    "from shapely.geometry import Polygon, box, Point\n",
    "from matplotlib import pyplot as plt\n",
    "import numpy as np\n",
    "import math"
   ]
  },
  {
   "cell_type": "code",
   "execution_count": null,
   "metadata": {},
   "outputs": [],
   "source": [
    "def create_grid(minx, miny, maxx, maxy, x_size=10, y_size=10):\n",
    "    \"\"\"\n",
    "    Create a regular grid with given size in the given bound\n",
    "    \"\"\"\n",
    "    num_x = math.floor((maxx - minx) / x_size)\n",
    "    num_y = math.floor((maxy - miny) / y_size)\n",
    "    cells = []\n",
    "    _id = 0\n",
    "    for x in range(num_x):\n",
    "        x_min = minx + x_size * x \n",
    "        for y in range(num_y):\n",
    "            y_min = miny + y_size * y \n",
    "            cells.append([_id, 'none', '#99382C',  box(x_min, y_min, x_min + x_size, y_min + y_size)])\n",
    "            _id += 1\n",
    "    \n",
    "    return cells\n",
    "\n",
    "\n",
    "def rnd_point_in_cell(bound, size, x, y):\n",
    "    "
   ]
  },
  {
   "cell_type": "code",
   "execution_count": null,
   "metadata": {},
   "outputs": [],
   "source": [
    "t = g.GeoDataFrame(\n",
    "    {\"name\": [\"bound\", \"used_area\", \"freiheit\"],\n",
    "     \"geometry\": [\n",
    "         box( 11.512107,48.117927,  11.624853, 48.186458),\n",
    "         box( 11.5567247,48.1462727 , 11.6140008,48.1702838),\n",
    "         box( 11.58529, 48.16144, 11.58702, 48.16239)\n",
    "     ]\n",
    "    },\n",
    "    crs=\"EPSG:4326\"\n",
    ")\n",
    "# EPSG:4326             # https://epsg.io/4326 WGS84 World Geodetic System [degree]\n",
    "t = t.to_crs(epsg=3857)  # https://epsg.io/3857 WGS84 / Pseudo-Mercator [meter] (Goolge, OpenStreetMap, ...)\n",
    "# gt.to_crs(epsg=32632)   # https://epsg.io/32632 UTM zone 32N [meter]\n",
    "t = t.drop(labels=[0, 1])\n",
    "\n",
    "# CRS offset to work with smaller numbers around Müncher Freiheit. \n",
    "offset = np.array([1.289e+06, 6.133e+06])\n",
    "c_muc_f = np.array([780, 845]) + offset # center point of crossing at Müncher Freiheit in EPSG:3857 (cartesian)\n",
    "# bounding box to work with\n",
    "bound = [c_muc_f[0] - 50, c_muc_f[1] - 50, c_muc_f[0]+150, c_muc_f[1] + 100]\n",
    "\n",
    "# create regular grid inside bound\n",
    "grid_df =  create_grid(*bound)\n",
    "grid_df = g.GeoDataFrame(grid_df, columns=[\"name\", \"facecolor\", \"edgecolor\", \"geometry\"], crs=\"EPSG:3857\")\n",
    "\n",
    "# create pedestrians\n",
    "peds = []\n",
    "peds.append([-1, '#187EAA', '#187EAA', Point([875, 888] + offset)])\n",
    "peds.append([-1, '#187EAA', '#187EAA', Point([877, 889] + offset)])\n",
    "peds.append([-1, '#187EAA', '#187EAA', Point([876, 888] + offset)])\n",
    "peds.append([-1, '#187EAA', '#187EAA', Point([886, 887] + offset)])\n",
    "peds.append([-1, '#187EAA', '#187EAA', Point([889, 889] + offset)])\n",
    "peds.append([-1, '#187EAA', '#187EAA', Point([892, 890] + offset)])\n",
    "peds.append([-1, '#187EAA', '#187EAA', Point([875, 908] + offset)])\n",
    "peds.append([-1, '#187EAA', '#187EAA', Point([845, 890] + offset)])\n",
    "peds = g.GeoDataFrame(peds, columns = [\"name\", \"facecolor\", \"edgecolor\", \"geometry\"], crs=\"EPSG:3857\")\n"
   ]
  },
  {
   "cell_type": "markdown",
   "metadata": {},
   "source": [
    "[Spatial Joins](https://geopandas.org/en/stable/gallery/spatial_joins.html?highlight=read_file)\n",
    "https://geopandas.org/en/stable/docs/reference/api/geopandas.GeoDataFrame.html\n",
    "https://contextily.readthedocs.io/en/latest/intro_guide.html#Using-transparent-layers\n"
   ]
  },
  {
   "cell_type": "code",
   "execution_count": null,
   "metadata": {},
   "outputs": [],
   "source": [
    "ax = grid_df.plot(figsize=(16, 10), alpha=1.0,  edgecolor=grid_df.edgecolor, facecolor=grid_df.facecolor)\n",
    "ctx.add_basemap(ax, zoom=18)\n",
    "peds.plot(ax=ax, edgecolor=peds.edgecolor, facecolor=peds.facecolor, markersize=5)\n",
    "ax.set_xlabel(\"Easting [meters]\")\n",
    "ax.set_ylabel(\"Northing [meters]\")\n",
    "ax.set_title(\"WSG 84 Pseudo-Mercator EPSG:3857\")"
   ]
  },
  {
   "cell_type": "code",
   "execution_count": null,
   "metadata": {},
   "outputs": [],
   "source": [
    "m = [11.36077, 48.0616244, 11.7229099, 48.2481162]\n",
    "bound = box(692000.49, 5337200.59, 692323.49, 5337525.59)\n",
    "cell = box(692313.49, 5337515.59, 692323.49, 5337525.59)\n",
    "d = {\"name\": [\"bound\", \"cell1\"], 'geometry': [bound, cell]}\n",
    "df_utm = g.GeoDataFrame(d, crs=\"EPSG:32632\")\n",
    "df = df_utm.to_crs(epsg=3857)"
   ]
  },
  {
   "cell_type": "code",
   "execution_count": null,
   "metadata": {},
   "outputs": [],
   "source": [
    "ax = df.plot(figsize=(10, 10), alpha=0.5, facecolor='none', edgecolor='r')\n",
    "ctx.add_basemap(ax, zoom = 18)\n",
    "# m = ctx.Place(\"Munich\")\n",
    "# m.plot()\n",
    "# df.crs"
   ]
  }
 ],
 "metadata": {
  "interpreter": {
   "hash": "6fde14e266581c961cfc68831b92b1dd55bda63b933110030987c5bf587656b9"
  },
  "kernelspec": {
   "display_name": "Python 3.8.10 64-bit ('analysis_dev': venv)",
   "name": "python3"
  },
  "language_info": {
   "codemirror_mode": {
    "name": "ipython",
    "version": 3
   },
   "file_extension": ".py",
   "mimetype": "text/x-python",
   "name": "python",
   "nbconvert_exporter": "python",
   "pygments_lexer": "ipython3",
   "version": "3.8.10"
  }
 },
 "nbformat": 4,
 "nbformat_minor": 2
}
