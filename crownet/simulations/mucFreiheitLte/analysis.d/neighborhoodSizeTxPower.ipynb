{
 "cells": [
  {
   "cell_type": "markdown",
   "metadata": {},
   "source": [
    "# Comparison of Neighborhood Size with reduced D2D transmission power\n",
    "\n",
    "Reducing the transmission power of UE with `ueTxPower` has no effect on purely \n",
    "D2D transmissions. To change the communication range change the `d2dTxPower`\n",
    "parameter.\n",
    "\n",
    "\n",
    "Simulation config:\n",
    "* mucFreiheitLte\n",
    "* Config: mucStationaryTest_lowerEnb\n",
    "* 32 stationary nodes in 3 groups with one group far away\n",
    "* Simulation area ~200 m x ~200m\n",
    "* 1 eNB"
   ]
  },
  {
   "cell_type": "code",
   "execution_count": null,
   "metadata": {},
   "outputs": [],
   "source": []
  },
  {
   "cell_type": "code",
   "execution_count": null,
   "metadata": {},
   "outputs": [],
   "source": [
    "import pandas as pd\n",
    "import numpy as np\n",
    "import matplotlib.pyplot as plt\n",
    "import os\n",
    "\n",
    "from crownetutils.analysis import OppAnalysis\n",
    "from crownetutils.analysis.dpmm.builder import DpmmHdfBuilder\n",
    "from crownetutils.omnetpp.scave import CrownetSql\n",
    "\n",
    "def run_data(run, sim, hdf_file=\"data\"):\n",
    "    data_root = f\"{os.environ['HOME']}/repos/crownet/crownet/simulations/{sim}/results/{run}\"\n",
    "    builder = DpmmHdfBuilder.get(hdf_file, data_root)\n",
    "    \n",
    "    sql = CrownetSql(\n",
    "            vec_path=f\"{data_root}/vars_rep_0.vec\", \n",
    "            sca_path=f\"{data_root}/vars_rep_0.sca\", \n",
    "        network=\"World\")\n",
    "    return builder, sql\n"
   ]
  },
  {
   "cell_type": "code",
   "execution_count": null,
   "metadata": {},
   "outputs": [],
   "source": [
    "\n",
    "_, d2d26dbm_sql = run_data(\"mucStationaryTest_lowerEnb_20211118-08:39:59\", \"mucFreiheitLte\")\n",
    "_, d2d15dbm_sql = run_data(\"mucStationaryTest_lowerEnb_20211117-12:27:34\", \"mucFreiheitLte\")\n",
    "_, d2d12dbm_sql = run_data(\"mucStationaryTest_lowerEnb_20211118-08:33:21\", \"mucFreiheitLte\")"
   ]
  },
  {
   "cell_type": "code",
   "execution_count": null,
   "metadata": {},
   "outputs": [],
   "source": [
    "fig, axes = plt.subplots(1, 2, figsize=(16,9))\n",
    "fig.subplots_adjust(hspace=0.3)\n",
    "\n",
    "df1, id1 =  OppAnalysis.get_neighborhood_table_size(sql=d2d26dbm_sql, moduleName=\"World.misc[%].nTable\")\n",
    "ax = OppAnalysis.plot_neighborhood_table_size_over_time(axes[0], df1, id1)\n",
    "ax.set_title(f\"{ax.get_title()}\\n with 26 dbm d2dTxPower \")\n",
    "\n",
    "df2, id2 = OppAnalysis.get_neighborhood_table_size(sql=d2d12dbm_sql, moduleName=\"World.misc[%].nTable\")\n",
    "ax = OppAnalysis.plot_neighborhood_table_size_over_time(axes[1], df2, id2)\n",
    "ax.set_title(f\"{ax.get_title()} \\n with 12 dbm d2dTxPower \")"
   ]
  },
  {
   "cell_type": "code",
   "execution_count": null,
   "metadata": {},
   "outputs": [],
   "source": []
  }
 ],
 "metadata": {
  "interpreter": {
   "hash": "6fde14e266581c961cfc68831b92b1dd55bda63b933110030987c5bf587656b9"
  },
  "kernelspec": {
   "display_name": "Python 3.8.10 64-bit ('analysis_dev': venv)",
   "name": "python3"
  },
  "language_info": {
   "codemirror_mode": {
    "name": "ipython",
    "version": 3
   },
   "file_extension": ".py",
   "mimetype": "text/x-python",
   "name": "python",
   "nbconvert_exporter": "python",
   "pygments_lexer": "ipython3",
   "version": "3.8.10"
  }
 },
 "nbformat": 4,
 "nbformat_minor": 2
}
